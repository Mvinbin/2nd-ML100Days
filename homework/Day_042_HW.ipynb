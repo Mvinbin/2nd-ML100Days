{
 "cells": [
  {
   "cell_type": "code",
   "execution_count": 9,
   "metadata": {},
   "outputs": [
    {
     "ename": "ERROR",
     "evalue": "Error in library(tree): there is no package called 'tree'\n",
     "output_type": "error",
     "traceback": [
      "Error in library(tree): there is no package called 'tree'\nTraceback:\n",
      "1. library(tree)",
      "2. stop(txt, domain = NA)"
     ]
    }
   ],
   "source": [
    "#classification tree\n",
    "library(tree)\n",
    "library(ISLR)\n",
    "attach(Carseats)\n",
    "High=ifelse(Sales<=8,'No','Yes')\n",
    "Carseats=data.frame(Carseats,High)\n",
    "tree.carseats=tree(High~.-Sales,Carseats)\n",
    "summary(tree.carseats)\n",
    "plot(tree.carseats)\n",
    "text(tree.carseats,pretty = 0)\n",
    "\n",
    "\n",
    "#regression tree\n",
    "library(MASS)\n",
    "set.seed(1)\n",
    "train=sample(1:nrow(Boston),nrow(Boston)/2)\n",
    "tree.boston=tree(medv~.,data=Boston,subset = train)\n",
    "summary(tree.boston)\n",
    "plot(tree.boston)\n",
    "text(tree.boston,pretty = 0)\n",
    "tree.y=predict(tree.boston,Boston[-train,])\n",
    "\n",
    "fit.reg=lm(medv~.,data=Boston,subset = train)\n",
    "reg.y=predict(fit.reg,Boston[-train,])\n",
    "summary(fit.reg)\n",
    "\n",
    "result2=data.frame(type=c('regression','tree'),\n",
    "           MSE=c(mean((Boston[-train,14]-reg.y)^2),\n",
    "                 mean((Boston[-train,14]-tree.y)^2)))\n",
    "result2"
   ]
  },
  {
   "cell_type": "code",
   "execution_count": null,
   "metadata": {},
   "outputs": [],
   "source": []
  }
 ],
 "metadata": {
  "kernelspec": {
   "display_name": "R",
   "language": "R",
   "name": "ir"
  }
 },
 "nbformat": 4,
 "nbformat_minor": 2
}
