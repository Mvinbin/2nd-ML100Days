{
 "cells": [
  {
   "cell_type": "markdown",
   "metadata": {},
   "source": [
    "#請找出一個你認為機器學習可以發光發熱的領域並闡述原因?\n",
    "\n",
    "其實非常多領域都可以，像是近年來最為有名的 \"自駕車\"，這部分其實用到\"影像辨識\"，而\n",
    "在這領域中則有大量使用機器學習，最基本的應用像是辨識影像中的像素來源，例如:哪一個像素屬於背景，\n",
    "哪一個像素屬於人類等，這類問題屬於Classification problem ，較常使用的機器學習方法有:SVM、ANN等，\n",
    "甚至會進一步使用Embed技巧來增加準確度 (但是這方法較耗時間)。"
   ]
  },
  {
   "cell_type": "code",
   "execution_count": null,
   "metadata": {},
   "outputs": [],
   "source": []
  }
 ],
 "metadata": {
  "kernelspec": {
   "display_name": "R",
   "language": "R",
   "name": "ir"
  },
  "language_info": {
   "codemirror_mode": "r",
   "file_extension": ".r",
   "mimetype": "text/x-r-source",
   "name": "R",
   "pygments_lexer": "r",
   "version": "3.6.1"
  }
 },
 "nbformat": 4,
 "nbformat_minor": 2
}
