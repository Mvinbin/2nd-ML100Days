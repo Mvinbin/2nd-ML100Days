{
 "cells": [
  {
   "cell_type": "markdown",
   "metadata": {},
   "source": [
    "請搜尋目標為多標籤問題 (Multi-label) 的機器學習案例，了解其資料來源、目標以及評估指標為何\n",
    "\n",
    "1. R -mldr package中的 emotions datasets\n",
    "2. 目標在於判斷個體的情緒狀況\n",
    "3. 評估指標包含 accuracy, F-measues\n",
    "\n",
    "https://cran.rstudio.com/web/packages/mldr/vignettes/mldr.pdf"
   ]
  },
  {
   "cell_type": "code",
   "execution_count": 1,
   "metadata": {},
   "outputs": [
    {
     "data": {
      "text/html": [
       "<table>\n",
       "<thead><tr><th></th><th scope=col>index</th><th scope=col>count</th><th scope=col>freq</th><th scope=col>IRLbl</th><th scope=col>SCUMBLE</th><th scope=col>SCUMBLE.CV</th></tr></thead>\n",
       "<tbody>\n",
       "\t<tr><th scope=row>amazed-suprised</th><td>73         </td><td>173        </td><td>0.2917369  </td><td>1.526012   </td><td>0.002159173</td><td>2.4782958  </td></tr>\n",
       "\t<tr><th scope=row>happy-pleased</th><td>74         </td><td>166        </td><td>0.2799325  </td><td>1.590361   </td><td>0.014332319</td><td>0.8916295  </td></tr>\n",
       "\t<tr><th scope=row>relaxing-calm</th><td>75         </td><td>264        </td><td>0.4451939  </td><td>1.000000   </td><td>0.023786461</td><td>0.4848911  </td></tr>\n",
       "\t<tr><th scope=row>quiet-still</th><td>76         </td><td>148        </td><td>0.2495784  </td><td>1.783784   </td><td>0.023131538</td><td>0.6312293  </td></tr>\n",
       "\t<tr><th scope=row>sad-lonely</th><td>77         </td><td>168        </td><td>0.2833052  </td><td>1.571429   </td><td>0.016133470</td><td>0.8093536  </td></tr>\n",
       "\t<tr><th scope=row>angry-aggresive</th><td>78         </td><td>189        </td><td>0.3187184  </td><td>1.396825   </td><td>0.001331189</td><td>2.4947227  </td></tr>\n",
       "</tbody>\n",
       "</table>\n"
      ],
      "text/latex": [
       "\\begin{tabular}{r|llllll}\n",
       "  & index & count & freq & IRLbl & SCUMBLE & SCUMBLE.CV\\\\\n",
       "\\hline\n",
       "\tamazed-suprised & 73          & 173         & 0.2917369   & 1.526012    & 0.002159173 & 2.4782958  \\\\\n",
       "\thappy-pleased & 74          & 166         & 0.2799325   & 1.590361    & 0.014332319 & 0.8916295  \\\\\n",
       "\trelaxing-calm & 75          & 264         & 0.4451939   & 1.000000    & 0.023786461 & 0.4848911  \\\\\n",
       "\tquiet-still & 76          & 148         & 0.2495784   & 1.783784    & 0.023131538 & 0.6312293  \\\\\n",
       "\tsad-lonely & 77          & 168         & 0.2833052   & 1.571429    & 0.016133470 & 0.8093536  \\\\\n",
       "\tangry-aggresive & 78          & 189         & 0.3187184   & 1.396825    & 0.001331189 & 2.4947227  \\\\\n",
       "\\end{tabular}\n"
      ],
      "text/markdown": [
       "\n",
       "| <!--/--> | index | count | freq | IRLbl | SCUMBLE | SCUMBLE.CV |\n",
       "|---|---|---|---|---|---|---|\n",
       "| amazed-suprised | 73          | 173         | 0.2917369   | 1.526012    | 0.002159173 | 2.4782958   |\n",
       "| happy-pleased | 74          | 166         | 0.2799325   | 1.590361    | 0.014332319 | 0.8916295   |\n",
       "| relaxing-calm | 75          | 264         | 0.4451939   | 1.000000    | 0.023786461 | 0.4848911   |\n",
       "| quiet-still | 76          | 148         | 0.2495784   | 1.783784    | 0.023131538 | 0.6312293   |\n",
       "| sad-lonely | 77          | 168         | 0.2833052   | 1.571429    | 0.016133470 | 0.8093536   |\n",
       "| angry-aggresive | 78          | 189         | 0.3187184   | 1.396825    | 0.001331189 | 2.4947227   |\n",
       "\n"
      ],
      "text/plain": [
       "                index count freq      IRLbl    SCUMBLE     SCUMBLE.CV\n",
       "amazed-suprised 73    173   0.2917369 1.526012 0.002159173 2.4782958 \n",
       "happy-pleased   74    166   0.2799325 1.590361 0.014332319 0.8916295 \n",
       "relaxing-calm   75    264   0.4451939 1.000000 0.023786461 0.4848911 \n",
       "quiet-still     76    148   0.2495784 1.783784 0.023131538 0.6312293 \n",
       "sad-lonely      77    168   0.2833052 1.571429 0.016133470 0.8093536 \n",
       "angry-aggresive 78    189   0.3187184 1.396825 0.001331189 2.4947227 "
      ]
     },
     "metadata": {},
     "output_type": "display_data"
    }
   ],
   "source": [
    "library(mldr)\n",
    "emotions$labels"
   ]
  },
  {
   "cell_type": "code",
   "execution_count": null,
   "metadata": {},
   "outputs": [],
   "source": []
  }
 ],
 "metadata": {
  "kernelspec": {
   "display_name": "R",
   "language": "R",
   "name": "ir"
  },
  "language_info": {
   "codemirror_mode": "r",
   "file_extension": ".r",
   "mimetype": "text/x-r-source",
   "name": "R",
   "pygments_lexer": "r",
   "version": "3.6.1"
  }
 },
 "nbformat": 4,
 "nbformat_minor": 2
}
