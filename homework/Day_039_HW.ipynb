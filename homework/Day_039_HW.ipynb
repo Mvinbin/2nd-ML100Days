{
 "cells": [
  {
   "cell_type": "markdown",
   "metadata": {},
   "source": [
    "1.LASSO 回歸可以被用來作為 Feature selection 的工具，請了解 LASSO 模型為什麼可用來作 Feature selection\n",
    "因為使用LASSO regression時，估計出來的係數容易為0，因此適合用於做feature seleciton\n",
    "\n",
    "2.當自變數 (X) 存在高度共線性時，Ridge Regression 可以處理這樣的問題嗎?\n",
    " w=(X^tX+αI)^−1 X^ty \n",
    "可以，原因在於X^tX 不存在反矩陣時 ，X^tX+αI 可以降低矩陣中其行列的相關性，使反矩陣存在。"
   ]
  }
 ],
 "metadata": {
  "kernelspec": {
   "display_name": "R",
   "language": "R",
   "name": "ir"
  },
  "language_info": {
   "codemirror_mode": "r",
   "file_extension": ".r",
   "mimetype": "text/x-r-source",
   "name": "R",
   "pygments_lexer": "r",
   "version": "3.6.1"
  }
 },
 "nbformat": 4,
 "nbformat_minor": 2
}
