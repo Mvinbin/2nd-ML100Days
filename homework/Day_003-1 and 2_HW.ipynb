{
 "cells": [
  {
   "cell_type": "code",
   "execution_count": 1,
   "metadata": {},
   "outputs": [
    {
     "data": {
      "text/html": [
       "<table>\n",
       "<thead><tr><th scope=col>countary</th><th scope=col>population</th></tr></thead>\n",
       "<tbody>\n",
       "\t<tr><td>Taiwan</td><td>656293</td></tr>\n",
       "\t<tr><td>USA   </td><td> 11867</td></tr>\n",
       "\t<tr><td>China </td><td>441236</td></tr>\n",
       "</tbody>\n",
       "</table>\n"
      ],
      "text/latex": [
       "\\begin{tabular}{r|ll}\n",
       " countary & population\\\\\n",
       "\\hline\n",
       "\t Taiwan & 656293\\\\\n",
       "\t USA    &  11867\\\\\n",
       "\t China  & 441236\\\\\n",
       "\\end{tabular}\n"
      ],
      "text/markdown": [
       "\n",
       "countary | population | \n",
       "|---|---|---|\n",
       "| Taiwan | 656293 | \n",
       "| USA    |  11867 | \n",
       "| China  | 441236 | \n",
       "\n",
       "\n"
      ],
      "text/plain": [
       "  countary population\n",
       "1 Taiwan   656293    \n",
       "2 USA       11867    \n",
       "3 China    441236    "
      ]
     },
     "metadata": {},
     "output_type": "display_data"
    }
   ],
   "source": [
    "## 隨機生成資料\n",
    "countary=c('Taiwan','USA','China')\n",
    "population=sample(10^3:10^6,3)\n",
    "data=data.frame(countary=countary,population=population)\n",
    "data"
   ]
  },
  {
   "cell_type": "code",
   "execution_count": null,
   "metadata": {},
   "outputs": [],
   "source": [
    "data=read.csv('C:\\\\Users\\\\coco40725\\\\Documents\\\\GitHub\\\\2nd-ML100Days\\\\data\\\\jpgtxt.csv',sep='',header=F)\n",
    "\n",
    "#轉成data.frame\n",
    "data.f=data.frame(ID=data$V1,site=data$V2)\n",
    "\n",
    "##讀取圖片，若連結失效則會找下一個連結，直到搜集到5張圖片\n",
    "library(magick)\n",
    "i=1\n",
    "j=1\n",
    "\n",
    "while (j <=5){\n",
    "  \n",
    "  tryCatch(assign(paste('image',j,sep=''),image_read(as.character(data.f$site[i]))), \n",
    "           error = function(e) i+1)\n",
    "  if(exists(paste('image',j,sep=''))==T){\n",
    "    i=i+1\n",
    "    j=j+1\n",
    "  }else{\n",
    "    i=i+1\n",
    "    j=j\n",
    "  }\n",
    "  cat(i)\n",
    "}\n",
    "\n",
    "image_append(c(image1,image2,image3,image4,image5))"
   ]
  },
  {
   "cell_type": "code",
   "execution_count": null,
   "metadata": {},
   "outputs": [],
   "source": []
  }
 ],
 "metadata": {
  "kernelspec": {
   "display_name": "R",
   "language": "R",
   "name": "ir"
  },
  "language_info": {
   "codemirror_mode": "r",
   "file_extension": ".r",
   "mimetype": "text/x-r-source",
   "name": "R",
   "pygments_lexer": "r",
   "version": "3.5.1"
  }
 },
 "nbformat": 4,
 "nbformat_minor": 2
}
