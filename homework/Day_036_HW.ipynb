{
 "cells": [
  {
   "cell_type": "code",
   "execution_count": 1,
   "metadata": {},
   "outputs": [
    {
     "data": {
      "text/html": [
       "0.481171548117155"
      ],
      "text/latex": [
       "0.481171548117155"
      ],
      "text/markdown": [
       "0.481171548117155"
      ],
      "text/plain": [
       "[1] 0.4811715"
      ]
     },
     "metadata": {},
     "output_type": "display_data"
    }
   ],
   "source": [
    "#F1-Score 其實是 F-Score 中的 β 值為 1 的特例，代表 Precision 與 Recall 的權重相同\n",
    "#請參考 F1-score 的公式 與下圖的 F2-score 公式圖，試著寫出 F2-Score 的計算函數\n",
    "\n",
    "set.seed(1)\n",
    "# 生成 100 個隨機的 0 / 1 prediction\n",
    "y.pred=sample(x=c(0,1),100,replace = T)\n",
    "# 生成 100 個隨機的 0 / 1 REAL\n",
    "y.real=sample(x=c(0,1),100,replace = T)\n",
    "\n",
    "re=as.matrix(table(y.pred,y.real))\n",
    "\n",
    "f.score=function(result,beta){\n",
    "  recall=result[2,2]/(result[1,2]+result[2,2])\n",
    "  precision=result[2,2]/(result[2,1]+result[2,2])\n",
    "  f=((1+beta^2)*recall*precision)/(precision*beta^2+recall)\n",
    "  return(f)\n",
    "}\n",
    "\n",
    "f.score(result=re,\n",
    "        beta=2)"
   ]
  },
  {
   "cell_type": "code",
   "execution_count": null,
   "metadata": {},
   "outputs": [],
   "source": []
  }
 ],
 "metadata": {
  "kernelspec": {
   "display_name": "R",
   "language": "R",
   "name": "ir"
  },
  "language_info": {
   "codemirror_mode": "r",
   "file_extension": ".r",
   "mimetype": "text/x-r-source",
   "name": "R",
   "pygments_lexer": "r",
   "version": "3.6.1"
  }
 },
 "nbformat": 4,
 "nbformat_minor": 2
}
