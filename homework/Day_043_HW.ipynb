{
 "cells": [
  {
   "cell_type": "markdown",
   "metadata": {},
   "source": [
    "1.隨機森林中的每一棵樹，是希望能夠  \n",
    "\n",
    "沒有任何限制，讓樹可以持續生長 (讓樹生成很深，讓模型變得複雜)  \n",
    "\n",
    "不要過度生長，避免 Overfitting  \n",
    "--> 答案是 \"不要過度生長，避免 Overfitting \" ，通常每一棵樹只使用sq(p)個features來進行splite\n",
    "\n",
    "2.假設總共有 N 筆資料，每棵樹用取後放回的方式抽了總共 N 筆資料生成，請問這棵樹大約使用了多少 % 不重複的原資料生成?  \n",
    "--> 每一樣本至少被抽到一次的機率為何?  \n",
    "1-(1/n) : 完全抽不到某一個樣本\n",
    "重複抽n次，皆抽不到的機率: (1-(1/n))^n  \n",
    "當n極大時，  \n",
    "lim ((1-(1/n))^n  ) =1/e  \n",
    "故 每一樣本至少被抽到1次的機率為: 1-1/e = 0.632\n"
   ]
  },
  {
   "cell_type": "code",
   "execution_count": null,
   "metadata": {},
   "outputs": [],
   "source": []
  }
 ],
 "metadata": {
  "kernelspec": {
   "display_name": "R",
   "language": "R",
   "name": "ir"
  },
  "language_info": {
   "codemirror_mode": "r",
   "file_extension": ".r",
   "mimetype": "text/x-r-source",
   "name": "R",
   "pygments_lexer": "r",
   "version": "3.4.3"
  }
 },
 "nbformat": 4,
 "nbformat_minor": 2
}
