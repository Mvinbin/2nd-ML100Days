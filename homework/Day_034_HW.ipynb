{
 "cells": [
  {
   "cell_type": "code",
   "execution_count": 1,
   "metadata": {},
   "outputs": [
    {
     "data": {
      "text/html": [
       "<table>\n",
       "<tbody>\n",
       "\t<tr><td>175</td><td>161</td><td>170</td><td>166</td><td>187</td><td>181</td><td>164</td><td>193</td><td>176</td><td>190</td><td>140</td><td>44 </td><td>21 </td><td>126</td><td>90 </td><td>146</td><td>96 </td><td>118</td><td>158</td><td>70 </td></tr>\n",
       "\t<tr><td>  1</td><td>  1</td><td>  1</td><td>  1</td><td>  1</td><td>  1</td><td>  1</td><td>  1</td><td>  1</td><td>  1</td><td>  0</td><td> 0 </td><td> 0 </td><td>  0</td><td> 0 </td><td>  0</td><td> 0 </td><td>  0</td><td>  0</td><td> 0 </td></tr>\n",
       "</tbody>\n",
       "</table>\n"
      ],
      "text/latex": [
       "\\begin{tabular}{llllllllllllllllllll}\n",
       "\t 175 & 161 & 170 & 166 & 187 & 181 & 164 & 193 & 176 & 190 & 140 & 44  & 21  & 126 & 90  & 146 & 96  & 118 & 158 & 70 \\\\\n",
       "\t   1 &   1 &   1 &   1 &   1 &   1 &   1 &   1 &   1 &   1 &   0 &  0  &  0  &   0 &  0  &   0 &  0  &   0 &   0 &  0 \\\\\n",
       "\\end{tabular}\n"
      ],
      "text/markdown": [
       "\n",
       "| 175 | 161 | 170 | 166 | 187 | 181 | 164 | 193 | 176 | 190 | 140 | 44  | 21  | 126 | 90  | 146 | 96  | 118 | 158 | 70  |\n",
       "|   1 |   1 |   1 |   1 |   1 |   1 |   1 |   1 |   1 |   1 |   0 |  0  |  0  |   0 |  0  |   0 |  0  |   0 |   0 |  0  |\n",
       "\n"
      ],
      "text/plain": [
       "     [,1] [,2] [,3] [,4] [,5] [,6] [,7] [,8] [,9] [,10] [,11] [,12] [,13] [,14]\n",
       "[1,] 175  161  170  166  187  181  164  193  176  190   140   44    21    126  \n",
       "[2,]   1    1    1    1    1    1    1    1    1    1     0    0     0      0  \n",
       "     [,15] [,16] [,17] [,18] [,19] [,20]\n",
       "[1,] 90    146   96    118   158   70   \n",
       "[2,]  0      0    0      0     0    0   "
      ]
     },
     "metadata": {},
     "output_type": "display_data"
    }
   ],
   "source": [
    "#假設我們資料中類別的數量並不均衡，\n",
    "#在評估準確率時可能會有所偏頗，試著切分出 y_test 中，\n",
    "#0 類別與 1 類別的數量是一樣的 (亦即 y_test 的類別是均衡的)\n",
    "#y 類別中，有 160 個 類別 0，40 個 類別 1 \n",
    "data.y=c(rep(0,160),rep(1,40))\n",
    "\n",
    "#切分出 y_test 中能各有 10 筆類別 0 與 10 筆類別 1\n",
    "y.cross=matrix(NA,20,4)\n",
    "min.loc=which(data.y==1)\n",
    "maj.loc=which(data.y==0)\n",
    "min.loc.sample=sample(x=min.loc,size = 10,replace = F)\n",
    "maj.loc.sample=sample(x=maj.loc,size = 10,replace = F)\n",
    "\n",
    "ytest=rbind(c(min.loc.sample,maj.loc.sample),\n",
    "            data.y[c(min.loc.sample,maj.loc.sample)] )\n",
    "\n",
    "ytest"
   ]
  },
  {
   "cell_type": "code",
   "execution_count": null,
   "metadata": {},
   "outputs": [],
   "source": []
  }
 ],
 "metadata": {
  "kernelspec": {
   "display_name": "R",
   "language": "R",
   "name": "ir"
  },
  "language_info": {
   "codemirror_mode": "r",
   "file_extension": ".r",
   "mimetype": "text/x-r-source",
   "name": "R",
   "pygments_lexer": "r",
   "version": "3.6.1"
  }
 },
 "nbformat": 4,
 "nbformat_minor": 2
}
