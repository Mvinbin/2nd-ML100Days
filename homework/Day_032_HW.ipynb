{
 "cells": [
  {
   "cell_type": "markdown",
   "metadata": {},
   "source": [
    "#Feature selection for high-dimensional class-imbalanced data\n",
    "sets using Support Vector Machines\n",
    "\n",
    "\n",
    "作業 1：目標 --> 根據data判斷 Observations 是否有病 或 判斷observations的病症屬於哪個階段\n",
    "\n",
    "作業 2：方法 --> SVM + feature selection or SVM + SMOTE \n",
    "\n",
    "作業 3：資料來源 --> microarray data"
   ]
  }
 ],
 "metadata": {
  "kernelspec": {
   "display_name": "R",
   "language": "R",
   "name": "ir"
  },
  "language_info": {
   "codemirror_mode": "r",
   "file_extension": ".r",
   "mimetype": "text/x-r-source",
   "name": "R",
   "pygments_lexer": "r",
   "version": "3.6.1"
  }
 },
 "nbformat": 4,
 "nbformat_minor": 2
}
