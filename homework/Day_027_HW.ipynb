{
 "cells": [
  {
   "cell_type": "code",
   "execution_count": 1,
   "metadata": {},
   "outputs": [
    {
     "name": "stderr",
     "output_type": "stream",
     "text": [
      "Loading required package: lattice\n",
      "Loading required package: ggplot2\n"
     ]
    },
    {
     "ename": "ERROR",
     "evalue": "Error in library(cattonum): there is no package called 'cattonum'\n",
     "output_type": "error",
     "traceback": [
      "Error in library(cattonum): there is no package called 'cattonum'\nTraceback:\n",
      "1. library(cattonum)",
      "2. stop(txt, domain = NA)"
     ]
    }
   ],
   "source": [
    "##試著使用鐵達尼號的例子，\n",
    "##創立兩種以上的群聚編碼特徵( mean、median、mode、max、min、count 均可 )\n",
    "library(magrittr)\n",
    "library(caret)\n",
    "library(cattonum)\n",
    "train=read.csv('C:\\\\Users\\\\coco40725\\\\Documents\\\\GitHub\\\\2nd-ML100Days\\\\data\\\\titanic_train.csv')\n",
    "str(train)\n",
    "train=train[,-c(1,4,9)]\n",
    "\n",
    "##extract categorical variable\n",
    "col.type=rep(0,9)\n",
    "for (i in 1:9) {\n",
    "  col.type[i]=class(train[,i])\n",
    "}\n",
    "col.factor=which(col.type=='factor')\n",
    "train.num=train[,-col.factor]\n",
    "\n",
    "## Age NA --> mean \n",
    "age.na.loc=which(is.na(train.num$Age)==T)\n",
    "train.num$Age[age.na.loc]=mean(train.num$Age,na.rm = T)\n",
    "\n",
    "##only keep categorical column\n",
    "train.cate=train[,c(col.factor,1)]\n",
    "\n",
    "## covert NA into a level\n",
    "for (j in 1:3) {\n",
    "  train.cate[,j] %<>% addNA(.)\n",
    "  \n",
    "}\n",
    "\n",
    "## fill somethong in empty cell\n",
    "for (d in 1:3) {\n",
    "  levels(train.cate[,d])[levels(train.cate[,d])=='']='empty'\n",
    "}\n",
    "\n",
    "## 每一個類別feature都增加兩種群聚編碼 : mean, median \n",
    "mean.dat=catto_mean(train.cate,c('Sex','Cabin','Embarked'),response=Survived)\n",
    "colnames(mean.dat)=c('Sex1','Cabin1','Embarked1')\n",
    "median.dat=catto_median(train.cate,c('Sex','Cabin','Embarked'),response=Survived)\n",
    "train.new=cbind(mean.dat[,-4],median.dat[-4],Survived=median.dat[,4],train.num[,-1])\n",
    "\n",
    "\n",
    "##將上述的新特徵，合併原有的欄位做生存率預估，結果是否有改善?\n",
    "\n",
    "#regression +numeric\n",
    "t11=Sys.time()\n",
    "train_control <- trainControl(method=\"cv\", number=5)\n",
    "reg.cv1= train(as.factor(Survived)~., data=train.num, trControl=train_control, family=binomial,method=\"glm\")\n",
    "t12=Sys.time()\n",
    "time1=difftime(t11,t12,units='secs')\n",
    "acc1=reg.cv1$results[2]\n",
    "kappa1=reg.cv1$results[3]\n",
    "\n",
    "#xgb +numeric\n",
    "t11=Sys.time()\n",
    "xgb1=train(as.factor(Survived)~., data=train.num, trControl=train_control, method=\"xgbTree\")\n",
    "t12=Sys.time()\n",
    "gb.acc1=mean(xgb1$results$Accuracy)\n",
    "gb.kappa1=mean(xgb1$results$Kappa)\n",
    "t12=Sys.time()\n",
    "time.gb1=difftime(t11,t12,units='secs')\n",
    "\n",
    "\n",
    "#regression+new\n",
    "t11=Sys.time()\n",
    "train_control <- trainControl(method=\"cv\", number=5)\n",
    "reg.cv2= train(as.factor(Survived)~., data=train.new, trControl=train_control, family=binomial,method=\"glm\")\n",
    "t12=Sys.time()\n",
    "time2=difftime(t11,t12,units='secs')\n",
    "acc2=reg.cv2$results[2]\n",
    "kappa2=reg.cv2$results[3]\n",
    "\n",
    "#xgb+new\n",
    "t11=Sys.time()\n",
    "xgb2=train(as.factor(Survived)~., data=train.new, trControl=train_control, method=\"xgbTree\")\n",
    "t12=Sys.time()\n",
    "gb.acc2=mean(xgb2$results$Accuracy)\n",
    "gb.kappa2=mean(xgb2$results$Kappa)\n",
    "t12=Sys.time()\n",
    "time.gb2=difftime(t11,t12,units='secs')\n",
    "\n",
    "\n",
    "result1=data.frame(type=c('reg','reg+mean+median','xgb','xgb+mean+median'),\n",
    "                   acc=as.numeric(c(acc1,acc2,gb.acc1,gb.acc1)),\n",
    "                   kappa=as.numeric(c(kappa1,kappa2,gb.kappa1,gb.kappa2)),\n",
    "                   time=-c(time1,time2,time.gb1,time.gb2))\n",
    "result1"
   ]
  },
  {
   "cell_type": "markdown",
   "metadata": {},
   "source": [
    "### (1) 在regression 與 xgb中，增加群聚編碼:median 與 mean 確實大幅提升kappa"
   ]
  }
 ],
 "metadata": {
  "kernelspec": {
   "display_name": "R",
   "language": "R",
   "name": "ir"
  },
  "language_info": {
   "codemirror_mode": "r",
   "file_extension": ".r",
   "mimetype": "text/x-r-source",
   "name": "R",
   "pygments_lexer": "r",
   "version": "3.4.3"
  }
 },
 "nbformat": 4,
 "nbformat_minor": 2
}
