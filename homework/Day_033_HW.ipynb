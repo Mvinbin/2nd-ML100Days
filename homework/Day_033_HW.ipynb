{
 "cells": [
  {
   "cell_type": "markdown",
   "metadata": {},
   "source": [
    "1. 模型的泛化能力 (generalization) 是指什麼？\n",
    "--> 是指 當此模型面對testing data ，即此模型沒見過的data，其預測的能力如何\n",
    "\n",
    "2. 分類問題與回歸問題分別可用的目標函數有哪些？\n",
    "--> 分類問題 : accuracy、G-means、ROC\n",
    "--> 回歸問題 : MSE、ROC\n",
    "\n",
    "Overfitting: \n",
    "regression角度--> Y(ob) = f(x) +error\n",
    "overfitting regression 能夠完美配適training data，但面對testing data則反而表現很差。\n",
    "\n",
    "為何會有overfitting? \n",
    "簡單說，我們收集來的資料 Y(ob) = f(x) +error，通常都存在著一些error與noise，\n",
    "這些因素對於預測來說沒啥幫助，甚至會有誤導可能，我們會希望我們建立的模型能夠忽略error與noise，\n",
    "只注重在真實model f(x)，當然現實層面上不可能區別出f(x)與 error，只能盡可能去估計出f(x)，\n",
    "然而，過度複雜的模型則是會連error與noise都視為f(x)，\n",
    "因此這樣建立的模型便會和真實模型 f(x)有所偏誤，當它預測新資料時便容易預測很差。\n",
    "\n",
    "Y(ob) = f(x) +error\n",
    "理想上，我們希望 f^hat 可以估計 f(x)\n",
    "\n",
    "但是Overfitting是認為 Y(ob) = f\"(x) {error直接納入f\"(x)}\n",
    "f^hat 估計 f\"(x)"
   ]
  }
 ],
 "metadata": {
  "kernelspec": {
   "display_name": "R",
   "language": "R",
   "name": "ir"
  },
  "language_info": {
   "codemirror_mode": "r",
   "file_extension": ".r",
   "mimetype": "text/x-r-source",
   "name": "R",
   "pygments_lexer": "r",
   "version": "3.6.1"
  }
 },
 "nbformat": 4,
 "nbformat_minor": 2
}
