{
 "cells": [
  {
   "cell_type": "code",
   "execution_count": 2,
   "metadata": {},
   "outputs": [
    {
     "data": {
      "text/html": [
       "256410"
      ],
      "text/latex": [
       "256410"
      ],
      "text/markdown": [
       "256410"
      ],
      "text/plain": [
       "[1] 256410"
      ]
     },
     "metadata": {},
     "output_type": "display_data"
    },
    {
     "data": {
      "text/html": [
       "<ol class=list-inline>\n",
       "\t<li>-1</li>\n",
       "\t<li>1</li>\n",
       "</ol>\n"
      ],
      "text/latex": [
       "\\begin{enumerate*}\n",
       "\\item -1\n",
       "\\item 1\n",
       "\\end{enumerate*}\n"
      ],
      "text/markdown": [
       "1. -1\n",
       "2. 1\n",
       "\n",
       "\n"
      ],
      "text/plain": [
       "[1] -1  1"
      ]
     },
     "metadata": {},
     "output_type": "display_data"
    },
    {
     "name": "stderr",
     "output_type": "stream",
     "text": [
      "Warning message:\n",
      "\"package 'DescTools' was built under R version 3.5.3\""
     ]
    },
    {
     "ename": "ERROR",
     "evalue": "Error: package or namespace load failed for 'DescTools' in loadNamespace(j <- i[[1L]], c(lib.loc, .libPaths()), versionCheck = vI[[j]]):\n there is no package called 'MASS'\n",
     "output_type": "error",
     "traceback": [
      "Error: package or namespace load failed for 'DescTools' in loadNamespace(j <- i[[1L]], c(lib.loc, .libPaths()), versionCheck = vI[[j]]):\n there is no package called 'MASS'\nTraceback:\n",
      "1. library(DescTools)",
      "2. tryCatch({\n .     attr(package, \"LibPath\") <- which.lib.loc\n .     ns <- loadNamespace(package, lib.loc)\n .     env <- attachNamespace(ns, pos = pos, deps)\n . }, error = function(e) {\n .     P <- if (!is.null(cc <- conditionCall(e))) \n .         paste(\" in\", deparse(cc)[1L])\n .     else \"\"\n .     msg <- gettextf(\"package or namespace load failed for %s%s:\\n %s\", \n .         sQuote(package), P, conditionMessage(e))\n .     if (logical.return) \n .         message(paste(\"Error:\", msg), domain = NA)\n .     else stop(msg, call. = FALSE, domain = NA)\n . })",
      "3. tryCatchList(expr, classes, parentenv, handlers)",
      "4. tryCatchOne(expr, names, parentenv, handlers[[1L]])",
      "5. value[[3L]](cond)",
      "6. stop(msg, call. = FALSE, domain = NA)"
     ]
    }
   ],
   "source": [
    "data=read.csv('C:\\\\Users\\\\coco40725\\\\Documents\\\\GitHub\\\\2nd-ML100Days\\\\data\\\\application_train.csv')\n",
    "ANN=data$AMT_ANNUITY\n",
    "\n",
    "##1. 列出 AMT_ANNUITY 的 q0 - q100\n",
    "ANN.range=range(ANN,na.rm = T)\n",
    "ANN.range[2]-ANN.range[1]\n",
    "\n",
    "##2.1 將 AMT_ANNUITY 中的 NAs 暫時以中位數填補\n",
    "ANN.median=median(ANN,na.rm = T)\n",
    "ANN.ins.median=ANN\n",
    "ANN.ins.median[which(is.na(ANN)==T)]=ANN.median\n",
    "\n",
    "##2.2 將 AMT_ANNUITY 的數值標準化至 -1 ~ 1 間\n",
    "ANN.N1.P1=2*(((ANN-ANN.range[1])/(ANN.range[2]-ANN.range[1]))-0.5)\n",
    "range(ANN.N1.P1,na.rm = T)\n",
    "\n",
    "##3. 將 AMT_GOOD_PRICE 的 NAs 以眾數填補\n",
    "library(DescTools)\n",
    "ANN.ins.mode=ANN\n",
    "ANN.ins.mode[which(is.na(ANN)==T)]=Mode(ANN)\n"
   ]
  },
  {
   "cell_type": "code",
   "execution_count": null,
   "metadata": {},
   "outputs": [],
   "source": []
  }
 ],
 "metadata": {
  "kernelspec": {
   "display_name": "R",
   "language": "R",
   "name": "ir"
  },
  "language_info": {
   "codemirror_mode": "r",
   "file_extension": ".r",
   "mimetype": "text/x-r-source",
   "name": "R",
   "pygments_lexer": "r",
   "version": "3.5.1"
  }
 },
 "nbformat": 4,
 "nbformat_minor": 2
}
