{
 "cells": [
  {
   "cell_type": "code",
   "execution_count": 4,
   "metadata": {},
   "outputs": [
    {
     "data": {
      "text/html": [
       "<table>\n",
       "<thead><tr><th scope=col>WT2</th><th scope=col>HT2</th><th scope=col>WT9</th><th scope=col>HT9</th><th scope=col>LG9</th><th scope=col>ST9</th><th scope=col>WT18</th><th scope=col>HT18</th><th scope=col>LG18</th><th scope=col>ST18</th><th scope=col>BMI18</th><th scope=col>Soma</th></tr></thead>\n",
       "<tbody>\n",
       "\t<tr><td>13.6 </td><td>87.7 </td><td>32.5 </td><td>133.4</td><td>28.4 </td><td> 74  </td><td>56.9 </td><td>158.9</td><td>34.6 </td><td>143  </td><td>22.5 </td><td>5.0  </td></tr>\n",
       "\t<tr><td>11.3 </td><td>90.0 </td><td>27.8 </td><td>134.8</td><td>26.9 </td><td> 65  </td><td>49.9 </td><td>166.0</td><td>33.8 </td><td>117  </td><td>18.1 </td><td>4.0  </td></tr>\n",
       "\t<tr><td>17.0 </td><td>89.6 </td><td>44.4 </td><td>141.5</td><td>31.9 </td><td>104  </td><td>55.3 </td><td>162.2</td><td>35.1 </td><td>143  </td><td>21.0 </td><td>5.5  </td></tr>\n",
       "\t<tr><td>13.2 </td><td>90.3 </td><td>40.5 </td><td>137.1</td><td>31.8 </td><td> 79  </td><td>65.9 </td><td>167.8</td><td>39.3 </td><td>148  </td><td>23.4 </td><td>5.5  </td></tr>\n",
       "\t<tr><td>13.3 </td><td>89.4 </td><td>29.9 </td><td>136.1</td><td>27.7 </td><td> 83  </td><td>62.3 </td><td>170.9</td><td>36.3 </td><td>152  </td><td>21.3 </td><td>4.5  </td></tr>\n",
       "\t<tr><td>11.3 </td><td>85.5 </td><td>22.8 </td><td>130.6</td><td>23.4 </td><td> 60  </td><td>47.4 </td><td>164.9</td><td>31.8 </td><td>126  </td><td>17.4 </td><td>3.0  </td></tr>\n",
       "</tbody>\n",
       "</table>\n"
      ],
      "text/latex": [
       "\\begin{tabular}{r|llllllllllll}\n",
       " WT2 & HT2 & WT9 & HT9 & LG9 & ST9 & WT18 & HT18 & LG18 & ST18 & BMI18 & Soma\\\\\n",
       "\\hline\n",
       "\t 13.6  & 87.7  & 32.5  & 133.4 & 28.4  &  74   & 56.9  & 158.9 & 34.6  & 143   & 22.5  & 5.0  \\\\\n",
       "\t 11.3  & 90.0  & 27.8  & 134.8 & 26.9  &  65   & 49.9  & 166.0 & 33.8  & 117   & 18.1  & 4.0  \\\\\n",
       "\t 17.0  & 89.6  & 44.4  & 141.5 & 31.9  & 104   & 55.3  & 162.2 & 35.1  & 143   & 21.0  & 5.5  \\\\\n",
       "\t 13.2  & 90.3  & 40.5  & 137.1 & 31.8  &  79   & 65.9  & 167.8 & 39.3  & 148   & 23.4  & 5.5  \\\\\n",
       "\t 13.3  & 89.4  & 29.9  & 136.1 & 27.7  &  83   & 62.3  & 170.9 & 36.3  & 152   & 21.3  & 4.5  \\\\\n",
       "\t 11.3  & 85.5  & 22.8  & 130.6 & 23.4  &  60   & 47.4  & 164.9 & 31.8  & 126   & 17.4  & 3.0  \\\\\n",
       "\\end{tabular}\n"
      ],
      "text/markdown": [
       "\n",
       "WT2 | HT2 | WT9 | HT9 | LG9 | ST9 | WT18 | HT18 | LG18 | ST18 | BMI18 | Soma | \n",
       "|---|---|---|---|---|---|\n",
       "| 13.6  | 87.7  | 32.5  | 133.4 | 28.4  |  74   | 56.9  | 158.9 | 34.6  | 143   | 22.5  | 5.0   | \n",
       "| 11.3  | 90.0  | 27.8  | 134.8 | 26.9  |  65   | 49.9  | 166.0 | 33.8  | 117   | 18.1  | 4.0   | \n",
       "| 17.0  | 89.6  | 44.4  | 141.5 | 31.9  | 104   | 55.3  | 162.2 | 35.1  | 143   | 21.0  | 5.5   | \n",
       "| 13.2  | 90.3  | 40.5  | 137.1 | 31.8  |  79   | 65.9  | 167.8 | 39.3  | 148   | 23.4  | 5.5   | \n",
       "| 13.3  | 89.4  | 29.9  | 136.1 | 27.7  |  83   | 62.3  | 170.9 | 36.3  | 152   | 21.3  | 4.5   | \n",
       "| 11.3  | 85.5  | 22.8  | 130.6 | 23.4  |  60   | 47.4  | 164.9 | 31.8  | 126   | 17.4  | 3.0   | \n",
       "\n",
       "\n"
      ],
      "text/plain": [
       "  WT2  HT2  WT9  HT9   LG9  ST9 WT18 HT18  LG18 ST18 BMI18 Soma\n",
       "1 13.6 87.7 32.5 133.4 28.4  74 56.9 158.9 34.6 143  22.5  5.0 \n",
       "2 11.3 90.0 27.8 134.8 26.9  65 49.9 166.0 33.8 117  18.1  4.0 \n",
       "3 17.0 89.6 44.4 141.5 31.9 104 55.3 162.2 35.1 143  21.0  5.5 \n",
       "4 13.2 90.3 40.5 137.1 31.8  79 65.9 167.8 39.3 148  23.4  5.5 \n",
       "5 13.3 89.4 29.9 136.1 27.7  83 62.3 170.9 36.3 152  21.3  4.5 \n",
       "6 11.3 85.5 22.8 130.6 23.4  60 47.4 164.9 31.8 126  17.4  3.0 "
      ]
     },
     "metadata": {},
     "output_type": "display_data"
    },
    {
     "data": {
      "text/html": [
       "<table>\n",
       "<thead><tr><th scope=col>type</th><th scope=col>MSE</th></tr></thead>\n",
       "<tbody>\n",
       "\t<tr><td>regression</td><td>0.02917064</td></tr>\n",
       "\t<tr><td>LASSO     </td><td>0.30310813</td></tr>\n",
       "\t<tr><td>Ridge     </td><td>1.55953574</td></tr>\n",
       "</tbody>\n",
       "</table>\n"
      ],
      "text/latex": [
       "\\begin{tabular}{r|ll}\n",
       " type & MSE\\\\\n",
       "\\hline\n",
       "\t regression & 0.02917064\\\\\n",
       "\t LASSO      & 0.30310813\\\\\n",
       "\t Ridge      & 1.55953574\\\\\n",
       "\\end{tabular}\n"
      ],
      "text/markdown": [
       "\n",
       "type | MSE | \n",
       "|---|---|---|\n",
       "| regression | 0.02917064 | \n",
       "| LASSO      | 0.30310813 | \n",
       "| Ridge      | 1.55953574 | \n",
       "\n",
       "\n"
      ],
      "text/plain": [
       "  type       MSE       \n",
       "1 regression 0.02917064\n",
       "2 LASSO      0.30310813\n",
       "3 Ridge      1.55953574"
      ]
     },
     "metadata": {},
     "output_type": "display_data"
    },
    {
     "data": {
      "image/png": "[encoded data removed]",
      "text/plain": [
       "Plot with title \"Ridge\""
      ]
     },
     "metadata": {},
     "output_type": "display_data"
    },
    {
     "data": {
      "text/html": [
       "<table>\n",
       "<thead><tr><th scope=col>APMAM</th><th scope=col>APSAB</th><th scope=col>APSLAKE</th><th scope=col>OPBPC</th><th scope=col>OPRC</th><th scope=col>OPSLAKE</th><th scope=col>BSAAM</th></tr></thead>\n",
       "<tbody>\n",
       "\t<tr><td>9.13  </td><td>3.58  </td><td>3.91  </td><td> 4.10 </td><td> 7.43 </td><td> 6.47 </td><td> 54235</td></tr>\n",
       "\t<tr><td>5.28  </td><td>4.82  </td><td>5.20  </td><td> 7.55 </td><td>11.11 </td><td>10.26 </td><td> 67567</td></tr>\n",
       "\t<tr><td>4.20  </td><td>3.77  </td><td>3.67  </td><td> 9.52 </td><td>12.20 </td><td>11.35 </td><td> 66161</td></tr>\n",
       "\t<tr><td>4.60  </td><td>4.46  </td><td>3.93  </td><td>11.14 </td><td>15.15 </td><td>11.13 </td><td> 68094</td></tr>\n",
       "\t<tr><td>7.15  </td><td>4.99  </td><td>4.88  </td><td>16.34 </td><td>20.05 </td><td>22.81 </td><td>107080</td></tr>\n",
       "\t<tr><td>9.70  </td><td>5.65  </td><td>4.91  </td><td> 8.88 </td><td> 8.15 </td><td> 7.41 </td><td> 67594</td></tr>\n",
       "</tbody>\n",
       "</table>\n"
      ],
      "text/latex": [
       "\\begin{tabular}{r|lllllll}\n",
       " APMAM & APSAB & APSLAKE & OPBPC & OPRC & OPSLAKE & BSAAM\\\\\n",
       "\\hline\n",
       "\t 9.13   & 3.58   & 3.91   &  4.10  &  7.43  &  6.47  &  54235\\\\\n",
       "\t 5.28   & 4.82   & 5.20   &  7.55  & 11.11  & 10.26  &  67567\\\\\n",
       "\t 4.20   & 3.77   & 3.67   &  9.52  & 12.20  & 11.35  &  66161\\\\\n",
       "\t 4.60   & 4.46   & 3.93   & 11.14  & 15.15  & 11.13  &  68094\\\\\n",
       "\t 7.15   & 4.99   & 4.88   & 16.34  & 20.05  & 22.81  & 107080\\\\\n",
       "\t 9.70   & 5.65   & 4.91   &  8.88  &  8.15  &  7.41  &  67594\\\\\n",
       "\\end{tabular}\n"
      ],
      "text/markdown": [
       "\n",
       "APMAM | APSAB | APSLAKE | OPBPC | OPRC | OPSLAKE | BSAAM | \n",
       "|---|---|---|---|---|---|\n",
       "| 9.13   | 3.58   | 3.91   |  4.10  |  7.43  |  6.47  |  54235 | \n",
       "| 5.28   | 4.82   | 5.20   |  7.55  | 11.11  | 10.26  |  67567 | \n",
       "| 4.20   | 3.77   | 3.67   |  9.52  | 12.20  | 11.35  |  66161 | \n",
       "| 4.60   | 4.46   | 3.93   | 11.14  | 15.15  | 11.13  |  68094 | \n",
       "| 7.15   | 4.99   | 4.88   | 16.34  | 20.05  | 22.81  | 107080 | \n",
       "| 9.70   | 5.65   | 4.91   |  8.88  |  8.15  |  7.41  |  67594 | \n",
       "\n",
       "\n"
      ],
      "text/plain": [
       "  APMAM APSAB APSLAKE OPBPC OPRC  OPSLAKE BSAAM \n",
       "1 9.13  3.58  3.91     4.10  7.43  6.47    54235\n",
       "2 5.28  4.82  5.20     7.55 11.11 10.26    67567\n",
       "3 4.20  3.77  3.67     9.52 12.20 11.35    66161\n",
       "4 4.60  4.46  3.93    11.14 15.15 11.13    68094\n",
       "5 7.15  4.99  4.88    16.34 20.05 22.81   107080\n",
       "6 9.70  5.65  4.91     8.88  8.15  7.41    67594"
      ]
     },
     "metadata": {},
     "output_type": "display_data"
    },
    {
     "data": {
      "text/html": [
       "<table>\n",
       "<thead><tr><th scope=col>type</th><th scope=col>MSE</th></tr></thead>\n",
       "<tbody>\n",
       "\t<tr><td>regression</td><td> 70078139 </td></tr>\n",
       "\t<tr><td>LASSO     </td><td> 75800545 </td></tr>\n",
       "\t<tr><td>Ridge     </td><td>281664560 </td></tr>\n",
       "</tbody>\n",
       "</table>\n"
      ],
      "text/latex": [
       "\\begin{tabular}{r|ll}\n",
       " type & MSE\\\\\n",
       "\\hline\n",
       "\t regression &  70078139 \\\\\n",
       "\t LASSO      &  75800545 \\\\\n",
       "\t Ridge      & 281664560 \\\\\n",
       "\\end{tabular}\n"
      ],
      "text/markdown": [
       "\n",
       "type | MSE | \n",
       "|---|---|---|\n",
       "| regression |  70078139  | \n",
       "| LASSO      |  75800545  | \n",
       "| Ridge      | 281664560  | \n",
       "\n",
       "\n"
      ],
      "text/plain": [
       "  type       MSE      \n",
       "1 regression  70078139\n",
       "2 LASSO       75800545\n",
       "3 Ridge      281664560"
      ]
     },
     "metadata": {},
     "output_type": "display_data"
    },
    {
     "data": {
      "image/png": "[encoded data removed]",
      "text/plain": [
       "Plot with title \"Ridge\""
      ]
     },
     "metadata": {},
     "output_type": "display_data"
    }
   ],
   "source": [
    "data1=read.table('C:\\\\Users\\\\coco40725\\\\Documents\\\\GitHub\\\\2nd-ML100Days\\\\data\\\\dat.bgs.txt',header=T)\n",
    "data2=read.table('C:\\\\Users\\\\coco40725\\\\Documents\\\\GitHub\\\\2nd-ML100Days\\\\data\\\\dat.water.txt',header=T)\n",
    "data2=data2[,-1]\n",
    "\n",
    "\n",
    "library(glmnet)\n",
    "\n",
    "## data 1\n",
    "head(data1)\n",
    "data1.test.loc=sample(x=1:nrow(data1),size=nrow(data1)*(1/3)) # 1/3 data\n",
    "data1.test=as.matrix(data1[data1.test.loc,])\n",
    "data1.train=as.matrix(data1[-data1.test.loc,])\n",
    "\n",
    "fit.reg.1=lm(BMI18~.,data=as.data.frame(data1.train))\n",
    "\n",
    "fit.lasso.1 = glmnet(data1.train[,-11], \n",
    "                   data1.train[,11], \n",
    "                   family=\"gaussian\", \n",
    "                   alpha=1)\n",
    "\n",
    "fit.ridge.1 = glmnet(data1.train[,-11], \n",
    "                   data1.train[,11], \n",
    "                   family=\"gaussian\", \n",
    "                   alpha=0)\n",
    "\n",
    "par(mfrow=c(2,1))\n",
    "plot(fit.lasso.1, xvar=\"lambda\",main ='LASSO')\n",
    "plot(fit.ridge.1, xvar=\"lambda\", main=\"Ridge\")\n",
    "\n",
    "pred.reg.1=predict(fit.reg.1,as.data.frame(data1.test[,-11]))\n",
    "pred.lasso.1=predict(fit.lasso.1,as.matrix(data1.test[,-11]))\n",
    "pred.ridge.1=predict(fit.ridge.1,as.matrix(data1.test[,-11]))\n",
    "\n",
    "result1=data.frame(type=c('regression','LASSO','Ridge'),\n",
    "                   MSE=c(mean((pred.reg.1-data1.test[,11])^2),\n",
    "                         mean((pred.lasso.1-data1.test[,11])^2),\n",
    "                         mean((pred.ridge.1-data1.test[,11])^2)))\n",
    "\n",
    "result1\n",
    "\n",
    "## data2\n",
    "data2.test.loc=sample(x=1:nrow(data2),size=nrow(data2)*(1/3)) # 1/3 data\n",
    "data2.test=as.matrix(data2[data2.test.loc,])\n",
    "data2.train=as.matrix(data2[-data2.test.loc,])\n",
    "\n",
    "\n",
    "fit.reg.2=lm(BSAAM~.,data=as.data.frame(data2.train))\n",
    "\n",
    "fit.lasso.2 = glmnet(data2.train[,-7], \n",
    "                     data2.train[,7], \n",
    "                     family=\"gaussian\", \n",
    "                     alpha=1)\n",
    "\n",
    "fit.ridge.2 = glmnet(data2.train[,-7], \n",
    "                     data2.train[,7], \n",
    "                     family=\"gaussian\", \n",
    "                     alpha=0)\n",
    "\n",
    "par(mfrow=c(2,1))\n",
    "plot(fit.lasso.2, xvar=\"lambda\",main ='LASSO')\n",
    "plot(fit.ridge.2, xvar=\"lambda\", main=\"Ridge\")\n",
    "\n",
    "pred.reg.2=predict(fit.reg.2,as.data.frame(data2.test[,-7]))\n",
    "pred.lasso.2=predict(fit.lasso.2,as.matrix(data2.test[,-7]))\n",
    "pred.ridge.2=predict(fit.ridge.2,as.matrix(data2.test[,-7]))\n",
    "\n",
    "result2=data.frame(type=c('regression','LASSO','Ridge'),\n",
    "                   MSE=c(mean((pred.reg.2-data2.test[,7])^2),\n",
    "                         mean((pred.lasso.2-data2.test[,7])^2),\n",
    "                         mean((pred.ridge.2-data2.test[,7])^2)))\n",
    "head(data2)\n",
    "\n",
    "result2"
   ]
  },
  {
   "cell_type": "code",
   "execution_count": null,
   "metadata": {},
   "outputs": [],
   "source": []
  }
 ],
 "metadata": {
  "kernelspec": {
   "display_name": "R",
   "language": "R",
   "name": "ir"
  },
  "language_info": {
   "codemirror_mode": "r",
   "file_extension": ".r",
   "mimetype": "text/x-r-source",
   "name": "R",
   "pygments_lexer": "r",
   "version": "3.4.3"
  }
 },
 "nbformat": 4,
 "nbformat_minor": 2
}
