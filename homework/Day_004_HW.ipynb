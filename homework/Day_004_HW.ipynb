{
 "cells": [
  {
   "cell_type": "code",
   "execution_count": 2,
   "metadata": {},
   "outputs": [
    {
     "name": "stderr",
     "output_type": "stream",
     "text": [
      "Warning message in cbind(code = (0:length(week)), week = week):\n",
      "\"number of rows of result is not a multiple of vector length (arg 2)\""
     ]
    },
    {
     "data": {
      "text/html": [
       "<table>\n",
       "<thead><tr><th scope=col>code</th><th scope=col>week</th></tr></thead>\n",
       "<tbody>\n",
       "\t<tr><td>0        </td><td>FRIDAY   </td></tr>\n",
       "\t<tr><td>1        </td><td>MONDAY   </td></tr>\n",
       "\t<tr><td>2        </td><td>SATURDAY </td></tr>\n",
       "\t<tr><td>3        </td><td>SUNDAY   </td></tr>\n",
       "\t<tr><td>4        </td><td>THURSDAY </td></tr>\n",
       "\t<tr><td>5        </td><td>TUESDAY  </td></tr>\n",
       "\t<tr><td>6        </td><td>WEDNESDAY</td></tr>\n",
       "\t<tr><td>7        </td><td>FRIDAY   </td></tr>\n",
       "</tbody>\n",
       "</table>\n"
      ],
      "text/latex": [
       "\\begin{tabular}{ll}\n",
       " code & week\\\\\n",
       "\\hline\n",
       "\t 0         & FRIDAY   \\\\\n",
       "\t 1         & MONDAY   \\\\\n",
       "\t 2         & SATURDAY \\\\\n",
       "\t 3         & SUNDAY   \\\\\n",
       "\t 4         & THURSDAY \\\\\n",
       "\t 5         & TUESDAY  \\\\\n",
       "\t 6         & WEDNESDAY\\\\\n",
       "\t 7         & FRIDAY   \\\\\n",
       "\\end{tabular}\n"
      ],
      "text/markdown": [
       "\n",
       "code | week | \n",
       "|---|---|---|---|---|---|---|---|\n",
       "| 0         | FRIDAY    | \n",
       "| 1         | MONDAY    | \n",
       "| 2         | SATURDAY  | \n",
       "| 3         | SUNDAY    | \n",
       "| 4         | THURSDAY  | \n",
       "| 5         | TUESDAY   | \n",
       "| 6         | WEDNESDAY | \n",
       "| 7         | FRIDAY    | \n",
       "\n",
       "\n"
      ],
      "text/plain": [
       "     code week     \n",
       "[1,] 0    FRIDAY   \n",
       "[2,] 1    MONDAY   \n",
       "[3,] 2    SATURDAY \n",
       "[4,] 3    SUNDAY   \n",
       "[5,] 4    THURSDAY \n",
       "[6,] 5    TUESDAY  \n",
       "[7,] 6    WEDNESDAY\n",
       "[8,] 7    FRIDAY   "
      ]
     },
     "metadata": {},
     "output_type": "display_data"
    },
    {
     "data": {
      "text/html": [
       "<table>\n",
       "<thead><tr><th scope=col>FRIDAY</th><th scope=col>MONDAY</th><th scope=col>SATURDAY</th><th scope=col>SUNDAY</th><th scope=col>THURSDAY</th><th scope=col>TUESDAY</th><th scope=col>WEDNESDAY</th></tr></thead>\n",
       "<tbody>\n",
       "\t<tr><td>1</td><td>0</td><td>0</td><td>0</td><td>0</td><td>0</td><td>0</td></tr>\n",
       "\t<tr><td>0</td><td>1</td><td>0</td><td>0</td><td>0</td><td>0</td><td>0</td></tr>\n",
       "\t<tr><td>0</td><td>0</td><td>1</td><td>0</td><td>0</td><td>0</td><td>0</td></tr>\n",
       "\t<tr><td>0</td><td>0</td><td>0</td><td>1</td><td>0</td><td>0</td><td>0</td></tr>\n",
       "\t<tr><td>0</td><td>0</td><td>0</td><td>0</td><td>1</td><td>0</td><td>0</td></tr>\n",
       "\t<tr><td>0</td><td>0</td><td>0</td><td>0</td><td>0</td><td>1</td><td>0</td></tr>\n",
       "\t<tr><td>0</td><td>0</td><td>0</td><td>0</td><td>0</td><td>0</td><td>1</td></tr>\n",
       "</tbody>\n",
       "</table>\n"
      ],
      "text/latex": [
       "\\begin{tabular}{lllllll}\n",
       " FRIDAY & MONDAY & SATURDAY & SUNDAY & THURSDAY & TUESDAY & WEDNESDAY\\\\\n",
       "\\hline\n",
       "\t 1 & 0 & 0 & 0 & 0 & 0 & 0\\\\\n",
       "\t 0 & 1 & 0 & 0 & 0 & 0 & 0\\\\\n",
       "\t 0 & 0 & 1 & 0 & 0 & 0 & 0\\\\\n",
       "\t 0 & 0 & 0 & 1 & 0 & 0 & 0\\\\\n",
       "\t 0 & 0 & 0 & 0 & 1 & 0 & 0\\\\\n",
       "\t 0 & 0 & 0 & 0 & 0 & 1 & 0\\\\\n",
       "\t 0 & 0 & 0 & 0 & 0 & 0 & 1\\\\\n",
       "\\end{tabular}\n"
      ],
      "text/markdown": [
       "\n",
       "FRIDAY | MONDAY | SATURDAY | SUNDAY | THURSDAY | TUESDAY | WEDNESDAY | \n",
       "|---|---|---|---|---|---|---|\n",
       "| 1 | 0 | 0 | 0 | 0 | 0 | 0 | \n",
       "| 0 | 1 | 0 | 0 | 0 | 0 | 0 | \n",
       "| 0 | 0 | 1 | 0 | 0 | 0 | 0 | \n",
       "| 0 | 0 | 0 | 1 | 0 | 0 | 0 | \n",
       "| 0 | 0 | 0 | 0 | 1 | 0 | 0 | \n",
       "| 0 | 0 | 0 | 0 | 0 | 1 | 0 | \n",
       "| 0 | 0 | 0 | 0 | 0 | 0 | 1 | \n",
       "\n",
       "\n"
      ],
      "text/plain": [
       "     FRIDAY MONDAY SATURDAY SUNDAY THURSDAY TUESDAY WEDNESDAY\n",
       "[1,] 1      0      0        0      0        0       0        \n",
       "[2,] 0      1      0        0      0        0       0        \n",
       "[3,] 0      0      1        0      0        0       0        \n",
       "[4,] 0      0      0        1      0        0       0        \n",
       "[5,] 0      0      0        0      1        0       0        \n",
       "[6,] 0      0      0        0      0        1       0        \n",
       "[7,] 0      0      0        0      0        0       1        "
      ]
     },
     "metadata": {},
     "output_type": "display_data"
    }
   ],
   "source": [
    "data=read.csv('C:\\\\Users\\\\coco40725\\\\Documents\\\\GitHub\\\\2nd-ML100Days\\\\data\\\\application_train.csv')\n",
    "\n",
    "week=levels(data$WEEKDAY_APPR_PROCESS_START)\n",
    "\n",
    "label.encode=cbind(code=(0:length(week)),week=week)\n",
    "label.encode\n",
    "\n",
    "library(dummies)\n",
    "one.hot.encode=dummy(week,sep='')\n",
    "colnames(one.hot.encode)=week\n",
    "one.hot.encode"
   ]
  },
  {
   "cell_type": "code",
   "execution_count": null,
   "metadata": {},
   "outputs": [],
   "source": []
  }
 ],
 "metadata": {
  "kernelspec": {
   "display_name": "R",
   "language": "R",
   "name": "ir"
  },
  "language_info": {
   "codemirror_mode": "r",
   "file_extension": ".r",
   "mimetype": "text/x-r-source",
   "name": "R",
   "pygments_lexer": "r",
   "version": "3.5.1"
  }
 },
 "nbformat": 4,
 "nbformat_minor": 2
}
