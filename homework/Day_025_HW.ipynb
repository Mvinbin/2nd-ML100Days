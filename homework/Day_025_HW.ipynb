{
 "cells": [
  {
   "cell_type": "code",
   "execution_count": 1,
   "metadata": {},
   "outputs": [
    {
     "name": "stderr",
     "output_type": "stream",
     "text": [
      "\n",
      "Attaching package: 'dplyr'\n",
      "\n",
      "The following objects are masked from 'package:stats':\n",
      "\n",
      "    filter, lag\n",
      "\n",
      "The following objects are masked from 'package:base':\n",
      "\n",
      "    intersect, setdiff, setequal, union\n",
      "\n",
      "Loading required package: lattice\n",
      "Loading required package: ggplot2\n",
      "\n",
      "Attaching package: 'xgboost'\n",
      "\n",
      "The following object is masked from 'package:dplyr':\n",
      "\n",
      "    slice\n",
      "\n"
     ]
    },
    {
     "ename": "ERROR",
     "evalue": "Error in library(dummies): there is no package called 'dummies'\n",
     "output_type": "error",
     "traceback": [
      "Error in library(dummies): there is no package called 'dummies'\nTraceback:\n",
      "1. library(dummies)",
      "2. stop(txt, domain = NA)"
     ]
    }
   ],
   "source": [
    "library(magrittr)\n",
    "library(caret)\n",
    "library(cattonum)\n",
    "library(data.table)\n",
    "taxi=read.csv('C:\\\\Users\\\\coco40725\\\\Documents\\\\GitHub\\\\2nd-ML100Days\\\\data\\\\taxi_data1.csv',sep=',')\n",
    "str(taxi)\n",
    "taxi.y=taxi$fare_amount\n",
    "\n",
    "##decompose time\n",
    "year=month=day=hour=min=sec=weekday=week=rep(0,nrow(taxi))\n",
    "for (i in 1:nrow(taxi)) {\n",
    "  t=as.character(taxi$pickup_datetime[i]) %>% strsplit(.,\" \") %>% unlist(.)\n",
    "  time.1=t[1]\n",
    "  time.2=t[2]\n",
    "  \n",
    "  t1=time.1%>%strsplit(.,\"-\")%>% unlist(.) %>% as.numeric()\n",
    "  t2=time.2%>%strsplit(.,\":\")%>% unlist(.)%>% as.numeric()\n",
    "  weekday[i]=weekdays(as.Date(time.1))\n",
    "  week[i]=week(as.Date(time.1))\n",
    "  \n",
    "  year[i]=t1[1]\n",
    "  month[i]=t1[2]\n",
    "  day[i]=t1[3]\n",
    "  \n",
    "  hour[i]=t2[1]\n",
    "  min[i]=t2[2]\n",
    "  sec[i]=t2[3]\n",
    "}\n",
    "\n",
    "taxi.new=cbind(taxi[,-2],year,month,day,hour,min,sec)\n",
    "\n",
    "## regression\n",
    "t11=Sys.time()\n",
    "train_control <- trainControl(method=\"cv\", number=5)\n",
    "reg.cv= train(fare_amount~., data=taxi.new, trControl=train_control, method=\"lm\")\n",
    "t12=Sys.time()\n",
    "time1=difftime(t11,t12,units='secs')\n",
    "rmse1=reg.cv$results[2]\n",
    "rsq1=reg.cv$results[3]\n",
    "\n",
    "##xgbppst\n",
    "t11=Sys.time()\n",
    "xgb1=train(fare_amount~., data=taxi.new, trControl=train_control, method=\"xgbTree\")\n",
    "t12=Sys.time()\n",
    "gb.req1=mean(xgb1$results$Rsquared)\n",
    "gb.rmse1=mean(xgb1$results$RMSE)\n",
    "t12=Sys.time()\n",
    "\n",
    "time.gb1=difftime(t11,t12,units='secs')\n",
    "\n",
    "###regression+week+weekday\n",
    "weekday=as.numeric(factor(weekday,levels = c('星期一',\n",
    "                                             '星期二',\n",
    "                                             '星期三',\n",
    "                                             '星期四',\n",
    "                                             '星期五',\n",
    "                                             '星期六',\n",
    "                                             '星期日')))\n",
    "\n",
    "taxi.new.new=cbind(taxi.new,weekday,week)\n",
    "t11=Sys.time()\n",
    "train_control <- trainControl(method=\"cv\", number=5)\n",
    "reg.cv.2= train(fare_amount~., data=taxi.new.new, trControl=train_control, method=\"lm\")\n",
    "t12=Sys.time()\n",
    "time2=difftime(t11,t12,units='secs')\n",
    "rmse2=reg.cv.2$results[2]\n",
    "rsq2=reg.cv.2$results[3]\n",
    "\n",
    "###xgboost+week+weekday\n",
    "t11=Sys.time()\n",
    "xgb2=train(fare_amount~., data=taxi.new.new, trControl=train_control, method=\"xgbTree\")\n",
    "gb.req2=mean(xgb2$results$Rsquared)\n",
    "gb.rmse2=mean(xgb2$results$RMSE)\n",
    "t12=Sys.time()\n",
    "\n",
    "time.gb2=difftime(t11,t12,units='secs')\n",
    "\n",
    "\n",
    "result1=data.frame(type=c('reg','reg+week','xgb','xgb+week'),\n",
    "                   rsq=as.numeric(c(rsq1,rsq2,gb.req1,gb.req2)),\n",
    "                   rmse=as.numeric(c(rmse1,rmse2,gb.rmse1,gb.rmse2)),\n",
    "                   time=-c(time1,time2,time.gb1,time.gb2))\n",
    "result1\n",
    "\n"
   ]
  },
  {
   "cell_type": "markdown",
   "metadata": {},
   "source": [
    "###  adding week and weekdays can slightly improve model performance of xgboost. However, in regression, adding week and weekdays results in worse performance."
   ]
  },
  {
   "cell_type": "code",
   "execution_count": 1,
   "metadata": {},
   "outputs": [
    {
     "ename": "ERROR",
     "evalue": "Error in eval(expr, envir, enclos): 找不到物件 'month'\n",
     "output_type": "error",
     "traceback": [
      "Error in eval(expr, envir, enclos): 找不到物件 'month'\nTraceback:\n"
     ]
    }
   ],
   "source": [
    "#年週期與周週期\n",
    "year.cycle=cos((month/6 + day/180 )*pi)\n",
    "week.cycle=sin((weekday/3.5 + hour/84 )*pi)\n",
    "taxi.new.new.new=cbind(taxi.new.new,week.cycle,year.cycle)\n",
    "\n",
    "###regression+cycle\n",
    "t11=Sys.time()\n",
    "train_control <- trainControl(method=\"cv\", number=5)\n",
    "reg.cv3= train(fare_amount~., data=taxi.new.new.new, trControl=train_control, method=\"lm\")\n",
    "t12=Sys.time()\n",
    "time3=difftime(t11,t12,units='secs')\n",
    "rmse3=reg.cv3$results[2]\n",
    "rsq3=reg.cv3$results[3]\n",
    "\n",
    "### xgboost+cycle\n",
    "t11=Sys.time()\n",
    "xgb3=train(fare_amount~., data=taxi.new.new.new, trControl=train_control, method=\"xgbTree\")\n",
    "gb.req3=mean(xgb3$results$Rsquared)\n",
    "gb.rmse3=mean(xgb3$results$RMSE)\n",
    "t12=Sys.time()\n",
    "\n",
    "time.gb3=difftime(t11,t12,units='secs')\n",
    "\n",
    "result2=data.frame(type=c('reg','reg+week','reg+week+cycle','xgb','xgb+week','xgb+week+cycle'),\n",
    "                   rsq=as.numeric(c(rsq1,rsq2,rsq3,gb.req1,gb.req2,gb.req3)),\n",
    "                   rmse=as.numeric(c(rmse1,rmse2,rmse3,gb.rmse1,gb.rmse2,gb.rmse3)),\n",
    "                   time=-c(time1,time2,time3,time.gb1,time.gb2,time.gb3))\n",
    "result2\n"
   ]
  },
  {
   "cell_type": "markdown",
   "metadata": {},
   "source": [
    "###  adding cycle cannot improve model performance of regression and xgboost."
   ]
  }
 ],
 "metadata": {
  "kernelspec": {
   "display_name": "R",
   "language": "R",
   "name": "ir"
  },
  "language_info": {
   "codemirror_mode": "r",
   "file_extension": ".r",
   "mimetype": "text/x-r-source",
   "name": "R",
   "pygments_lexer": "r",
   "version": "3.4.3"
  }
 },
 "nbformat": 4,
 "nbformat_minor": 2
}
