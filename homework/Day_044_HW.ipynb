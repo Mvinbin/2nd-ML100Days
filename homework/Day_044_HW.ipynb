{
 "cells": [
  {
   "cell_type": "code",
   "execution_count": 2,
   "metadata": {},
   "outputs": [
    {
     "ename": "ERROR",
     "evalue": "Error in tree(medv ~ ., data = Boston, subset = train): 沒有這個函數 \"tree\"\n",
     "output_type": "error",
     "traceback": [
      "Error in tree(medv ~ ., data = Boston, subset = train): 沒有這個函數 \"tree\"\nTraceback:\n"
     ]
    }
   ],
   "source": [
    "#classification tree\n",
    "library(MASS)\n",
    "library(randomForest)\n",
    "set.seed(1)\n",
    "train=sample(1:nrow(Boston),nrow(Boston)/2)\n",
    "\n",
    "tree.boston=tree(medv~.,data=Boston,subset = train)\n",
    "summary(tree.boston)\n",
    "plot(tree.boston)\n",
    "text(tree.boston,pretty = 0)\n",
    "tree.y=predict(tree.boston,Boston[-train,])\n",
    "\n",
    "#regression tree\n",
    "fit.reg=lm(medv~.,data=Boston,subset = train)\n",
    "reg.y=predict(fit.reg,Boston[-train,])\n",
    "summary(fit.reg)\n",
    "\n",
    "#randomforest tree\n",
    "random.boston.full=randomForest(medv~.,data=Boston,subset = train,mtry=13)\n",
    "summary(random.boston.full)\n",
    "plot(random.boston.full)\n",
    "random.boston.full.y=predict(random.boston.full,Boston[-train,])\n",
    "\n",
    "\n",
    "random.boston.sq=randomForest(medv~.,data=Boston,subset = train,mtry=round(13^0.5))\n",
    "summary(random.boston.sq)\n",
    "plot(random.boston.sq)\n",
    "random.boston.sq.y=predict(random.boston.sq,Boston[-train,])\n",
    "\n",
    "result2=data.frame(type=c('regression','tree','random.tree.full','random.tree.sq'),\n",
    "                   MSE=c(mean((Boston[-train,14]-reg.y)^2),\n",
    "                         mean((Boston[-train,14]-tree.y)^2),\n",
    "                         mean((Boston[-train,14]-random.boston.full.y)^2),\n",
    "                         mean((Boston[-train,14]-random.boston.sq.y)^2)))\n",
    "result2"
   ]
  },
  {
   "cell_type": "code",
   "execution_count": null,
   "metadata": {},
   "outputs": [],
   "source": []
  }
 ],
 "metadata": {
  "kernelspec": {
   "display_name": "R",
   "language": "R",
   "name": "ir"
  }
 },
 "nbformat": 4,
 "nbformat_minor": 2
}
