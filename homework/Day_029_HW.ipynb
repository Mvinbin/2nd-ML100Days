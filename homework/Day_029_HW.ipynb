{
 "cells": [
  {
   "cell_type": "code",
   "execution_count": 1,
   "metadata": {},
   "outputs": [
    {
     "name": "stderr",
     "output_type": "stream",
     "text": [
      "Loading required package: lattice\n",
      "Loading required package: ggplot2\n"
     ]
    },
    {
     "ename": "ERROR",
     "evalue": "Error in library(cattonum): there is no package called 'cattonum'\n",
     "output_type": "error",
     "traceback": [
      "Error in library(cattonum): there is no package called 'cattonum'\nTraceback:\n",
      "1. library(cattonum)",
      "2. stop(txt, domain = NA)"
     ]
    }
   ],
   "source": [
    "#將特徵重要性較低的一半特徵刪除後，再做生存率預估，正確率是否有變化?\n",
    "library(magrittr)\n",
    "library(caret)\n",
    "library(cattonum)\n",
    "train=read.csv('C:\\\\Users\\\\coco40725\\\\Documents\\\\GitHub\\\\2nd-ML100Days\\\\data\\\\titanic_train.csv')\n",
    "str(train)\n",
    "train=train[,-c(1,4,9)]\n",
    "## Age NA --> mean \n",
    "age.na.loc=which(is.na(train$Age)==T)\n",
    "train$Age[age.na.loc]=mean(train$Age,na.rm = T)\n",
    "\n",
    "##extract categorical variable\n",
    "col.type=rep(0,9)\n",
    "for (i in 1:9) {\n",
    "  col.type[i]=class(train[,i])\n",
    "}\n",
    "col.factor=which(col.type=='factor')\n",
    "\n",
    "##only keep categorical column\n",
    "train.cate=train[,c(col.factor,1)]\n",
    "train.num=train[,-col.factor]\n",
    "\n",
    "## covert NA into a level\n",
    "for (j in 1:3) {\n",
    "  train.cate[,j] %<>% addNA(.)\n",
    "  \n",
    "}\n",
    "\n",
    "## fill somethong in empty cell\n",
    "for (d in 1:3) {\n",
    "  levels(train.cate[,d])[levels(train.cate[,d])=='']='empty'\n",
    "}\n",
    "\n",
    "## mean coding\n",
    "mean.dat=catto_mean(train.cate,c('Sex','Cabin','Embarked'),response=Survived)\n",
    "\n",
    "train.new=cbind(mean.dat[,-4],train.num[,-1],Survived=mean.dat[,4])\n",
    "\n",
    "\n",
    "# 原始特徵 + 隨機森林\n",
    "train_control <- trainControl(method=\"cv\", number=5)\n",
    "fit_rf = train(as.factor(Survived) ~ ., data=train.new, method='rf', trControl=train_control) # caret 自動處理文字型資料\n",
    "impor.fea=varImp(fit_rf)\n",
    "\n",
    "# 高重要性特徵(選一半) + 隨機森林\n",
    "train.new.import=train.new[,c(1,2,5,8,9)]\n",
    "fit_rf.important = train(as.factor(Survived) ~ ., data=train.new.import, method='rf', trControl=train_control) \n",
    "\n",
    "result=data.frame(type=c('rf','rf+f.select'),\n",
    "                  acc=c(fit_rf$results[1,2],fit_rf.important$results[1,2]),\n",
    "                  kappa=c(fit_rf$results[1,3],fit_rf.important$results[1,3]))\n",
    "result\n",
    "\n",
    "\n",
    "\n",
    "\n",
    "#將特徵重要性最高的兩個特徵做特徵組合，是否能再進一步提升預測力?\n",
    "\n",
    "# sex + cabin\n",
    "mean.dat=catto_mean(train.cate,c('Sex','Cabin'),response=Survived)\n",
    "sex.cabin.mean=apply(mean.dat[,1:2],1,mean)\n",
    "\n",
    "# 加入新重要性特徵 + 隨機森林\n",
    "train.new.new=cbind(train.new,sex.cabin.mean)\n",
    "fit_rf.new = train(as.factor(Survived) ~ ., data=train.new.new, method='rf', trControl=train_control) \n",
    "\n",
    "result.fin=data.frame(type=c('rf','rf+f.select','rf+new.f'),\n",
    "                  acc=c(fit_rf$results[1,2],fit_rf.important$results[1,2],fit_rf.new$results[1,2]),\n",
    "                  kappa=c(fit_rf$results[1,3],fit_rf.important$results[1,3],fit_rf.new$results[1,3]))\n",
    "result.fin"
   ]
  },
  {
   "cell_type": "markdown",
   "metadata": {},
   "source": [
    "### (1) 只使用高相關性特徵，模型表現反而不好。\n",
    "### (2) 原始特徵多增加一組新的高相關性特徵之線性組合，模型表現沒有明顯變好。"
   ]
  }
 ],
 "metadata": {
  "kernelspec": {
   "display_name": "R",
   "language": "R",
   "name": "ir"
  },
  "language_info": {
   "codemirror_mode": "r",
   "file_extension": ".r",
   "mimetype": "text/x-r-source",
   "name": "R",
   "pygments_lexer": "r",
   "version": "3.4.3"
  }
 },
 "nbformat": 4,
 "nbformat_minor": 2
}
